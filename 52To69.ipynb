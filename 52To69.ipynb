{
 "cells": [
  {
   "cell_type": "markdown",
   "id": "6dba1092-07e4-488b-9fa0-d4e98bf43806",
   "metadata": {},
   "source": [
    "#OBJECT ORIENTED PROGRAMMING"
   ]
  },
  {
   "cell_type": "code",
   "execution_count": 1,
   "id": "80b74df7-25c7-4bb5-ae66-8ed22da2d4e7",
   "metadata": {},
   "outputs": [
    {
     "data": {
      "text/plain": [
       "6.0"
      ]
     },
     "execution_count": 1,
     "metadata": {},
     "output_type": "execute_result"
    }
   ],
   "source": [
    "import math\n",
    "math.sqrt(36)"
   ]
  },
  {
   "cell_type": "code",
   "execution_count": 3,
   "id": "7cefa6f9-d98d-4ca7-ab08-5921b9584054",
   "metadata": {},
   "outputs": [
    {
     "data": {
      "text/plain": [
       "5.0"
      ]
     },
     "execution_count": 3,
     "metadata": {},
     "output_type": "execute_result"
    }
   ],
   "source": [
    "from math import sqrt as sq\n",
    "sq(25)"
   ]
  },
  {
   "cell_type": "code",
   "execution_count": 5,
   "id": "f756480c-733a-426b-ae9a-cfe0bc63e44c",
   "metadata": {},
   "outputs": [
    {
     "data": {
      "text/plain": [
       "12.0"
      ]
     },
     "execution_count": 5,
     "metadata": {},
     "output_type": "execute_result"
    }
   ],
   "source": [
    "import math as m\n",
    "m.sqrt(144)"
   ]
  },
  {
   "cell_type": "code",
   "execution_count": 7,
   "id": "53bec6c2-4a1c-4a7f-960c-5593ea47470a",
   "metadata": {},
   "outputs": [
    {
     "data": {
      "text/plain": [
       "9.0"
      ]
     },
     "execution_count": 7,
     "metadata": {},
     "output_type": "execute_result"
    }
   ],
   "source": [
    "from math import *\n",
    "sqrt(81)"
   ]
  },
  {
   "cell_type": "code",
   "execution_count": 9,
   "id": "b1680210-72dc-40bf-b556-06fe377513ef",
   "metadata": {},
   "outputs": [],
   "source": [
    "import numpy as np"
   ]
  },
  {
   "cell_type": "code",
   "execution_count": 11,
   "id": "b8bc7a37-d063-4fd6-9f70-ebb3558fe570",
   "metadata": {},
   "outputs": [
    {
     "data": {
      "text/plain": [
       "'2.0.1'"
      ]
     },
     "execution_count": 11,
     "metadata": {},
     "output_type": "execute_result"
    }
   ],
   "source": [
    "np.__version__"
   ]
  },
  {
   "cell_type": "code",
   "execution_count": 17,
   "id": "70248a1a-d8ae-4d90-9a9a-e0d36f6a0896",
   "metadata": {},
   "outputs": [],
   "source": [
    "import pandas as pd"
   ]
  },
  {
   "cell_type": "code",
   "execution_count": 19,
   "id": "c2ce378a-2b53-463b-b325-94c6bb34ff07",
   "metadata": {},
   "outputs": [
    {
     "data": {
      "text/plain": [
       "'2.2.2'"
      ]
     },
     "execution_count": 19,
     "metadata": {},
     "output_type": "execute_result"
    }
   ],
   "source": [
    "pd.__version__"
   ]
  },
  {
   "cell_type": "markdown",
   "id": "b751224b-ed25-49ce-8831-2572d7194274",
   "metadata": {},
   "source": [
    "#PRESS SHIFT + TAB TAB TAB TAB FOR MORE INFORMATION REGARDING SPECIFIC FUNCTION OR KEYWORD"
   ]
  },
  {
   "cell_type": "markdown",
   "id": "d6ce6650-39b3-45e6-8b0b-ccaac7d62052",
   "metadata": {},
   "source": [
    "https://docs.python.org/3/       \n",
    "#Visit this site for more python keywords info."
   ]
  },
  {
   "cell_type": "markdown",
   "id": "9e6f9151-fb7b-4555-a545-8fa71c59ca52",
   "metadata": {},
   "source": [
    "#VECTORS\n",
    "\n"
   ]
  },
  {
   "cell_type": "code",
   "execution_count": 49,
   "id": "48341626-d42a-4f48-8eb7-8acf288b4ac9",
   "metadata": {},
   "outputs": [
    {
     "data": {
      "text/plain": [
       "array([ 2, -6,  8])"
      ]
     },
     "execution_count": 49,
     "metadata": {},
     "output_type": "execute_result"
    }
   ],
   "source": [
    "v = np.array([2,-6,8])\n",
    "v\n"
   ]
  },
  {
   "cell_type": "code",
   "execution_count": 51,
   "id": "a5dc5467-0ff5-41ce-9c98-7febd62cd3e5",
   "metadata": {},
   "outputs": [
    {
     "data": {
      "text/plain": [
       "numpy.ndarray"
      ]
     },
     "execution_count": 51,
     "metadata": {},
     "output_type": "execute_result"
    }
   ],
   "source": [
    "type(v)"
   ]
  },
  {
   "cell_type": "markdown",
   "id": "c095c04d-70fa-4178-bddd-a01bf5e50fc6",
   "metadata": {},
   "source": [
    "#MATRIX\n"
   ]
  },
  {
   "cell_type": "code",
   "execution_count": 47,
   "id": "6e2ef6f9-4855-44f6-bfdc-12eb7ab437ca",
   "metadata": {},
   "outputs": [
    {
     "data": {
      "text/plain": [
       "array([[ 2,  6, -9],\n",
       "       [ 6, -9,  7]])"
      ]
     },
     "execution_count": 47,
     "metadata": {},
     "output_type": "execute_result"
    }
   ],
   "source": [
    "vec = np.array([[2,6,-9],[6,-9,7]])\n",
    "vec"
   ]
  },
  {
   "cell_type": "code",
   "execution_count": 53,
   "id": "f1b9bba9-60a1-4285-b6f7-c663cba417c1",
   "metadata": {},
   "outputs": [
    {
     "data": {
      "text/plain": [
       "numpy.ndarray"
      ]
     },
     "execution_count": 53,
     "metadata": {},
     "output_type": "execute_result"
    }
   ],
   "source": [
    "type(vec)"
   ]
  },
  {
   "cell_type": "markdown",
   "id": "89d03c8a-0221-40a9-82c1-59a6f82c79f4",
   "metadata": {},
   "source": [
    "#DATA SHAPES\n"
   ]
  },
  {
   "cell_type": "code",
   "execution_count": 57,
   "id": "638384a6-b78e-4c18-acfb-2a6a0f9051f3",
   "metadata": {},
   "outputs": [
    {
     "data": {
      "text/plain": [
       "(3,)"
      ]
     },
     "execution_count": 57,
     "metadata": {},
     "output_type": "execute_result"
    }
   ],
   "source": [
    "v.shape"
   ]
  },
  {
   "cell_type": "code",
   "execution_count": 59,
   "id": "3ed3d8af-fee3-4148-aa3e-2c7d1468ef93",
   "metadata": {},
   "outputs": [
    {
     "data": {
      "text/plain": [
       "(2, 3)"
      ]
     },
     "execution_count": 59,
     "metadata": {},
     "output_type": "execute_result"
    }
   ],
   "source": [
    "vec.shape"
   ]
  },
  {
   "cell_type": "code",
   "execution_count": 69,
   "id": "e92d5bbf-d805-4586-aca6-7dfef2db1760",
   "metadata": {},
   "outputs": [
    {
     "data": {
      "text/plain": [
       "array([[ 2, -6,  8]])"
      ]
     },
     "execution_count": 69,
     "metadata": {},
     "output_type": "execute_result"
    }
   ],
   "source": [
    "v.reshape(1,3)"
   ]
  },
  {
   "cell_type": "code",
   "execution_count": 71,
   "id": "0a68c403-7f8d-45f4-a47b-4b09ae6a622c",
   "metadata": {},
   "outputs": [
    {
     "data": {
      "text/plain": [
       "array([[ 2,  6],\n",
       "       [-9,  6],\n",
       "       [-9,  7]])"
      ]
     },
     "execution_count": 71,
     "metadata": {},
     "output_type": "execute_result"
    }
   ],
   "source": [
    "vec.reshape(3,2)"
   ]
  },
  {
   "cell_type": "code",
   "execution_count": 73,
   "id": "eecfae56-6ce9-4ce3-a409-1a17d9695ac6",
   "metadata": {},
   "outputs": [
    {
     "data": {
      "text/plain": [
       "array([[ 2,  6, -9],\n",
       "       [ 6, -9,  7]])"
      ]
     },
     "execution_count": 73,
     "metadata": {},
     "output_type": "execute_result"
    }
   ],
   "source": [
    "vec.reshape(2,3)"
   ]
  },
  {
   "cell_type": "code",
   "execution_count": 81,
   "id": "c3636de8-02c2-4c7d-81f4-6d4a78ee0f1e",
   "metadata": {},
   "outputs": [],
   "source": [
    "vec1 = np.array([[4,6,8],[7,1,1]])"
   ]
  },
  {
   "cell_type": "code",
   "execution_count": 87,
   "id": "0f80d9a4-ea22-47d9-8476-ee5a6116e979",
   "metadata": {},
   "outputs": [
    {
     "data": {
      "text/plain": [
       "array([[[ 2,  6, -9],\n",
       "        [ 6, -9,  7]],\n",
       "\n",
       "       [[ 4,  6,  8],\n",
       "        [ 7,  1,  1]]])"
      ]
     },
     "execution_count": 87,
     "metadata": {},
     "output_type": "execute_result"
    }
   ],
   "source": [
    "t = np.array([vec,vec1])\n",
    "t"
   ]
  },
  {
   "cell_type": "code",
   "execution_count": 89,
   "id": "00a2b379-bbdc-44f8-b334-1dcd3fa651dc",
   "metadata": {},
   "outputs": [
    {
     "data": {
      "text/plain": [
       "(2, 2, 3)"
      ]
     },
     "execution_count": 89,
     "metadata": {},
     "output_type": "execute_result"
    }
   ],
   "source": [
    "t.shape"
   ]
  },
  {
   "cell_type": "code",
   "execution_count": 91,
   "id": "d20e2442-4654-4d0a-a6bb-5b95ca9d87f2",
   "metadata": {},
   "outputs": [
    {
     "data": {
      "text/plain": [
       "array([[[ 2,  6],\n",
       "        [-9,  6]],\n",
       "\n",
       "       [[-9,  7],\n",
       "        [ 4,  6]],\n",
       "\n",
       "       [[ 8,  7],\n",
       "        [ 1,  1]]])"
      ]
     },
     "execution_count": 91,
     "metadata": {},
     "output_type": "execute_result"
    }
   ],
   "source": [
    "t.reshape(3,2,2)"
   ]
  },
  {
   "cell_type": "code",
   "execution_count": 95,
   "id": "25562824-55e8-45bd-8a41-dc5eb9dd925c",
   "metadata": {},
   "outputs": [
    {
     "data": {
      "text/plain": [
       "array([[[ 3,  7, -8],\n",
       "        [ 7, -8,  8]],\n",
       "\n",
       "       [[ 5,  7,  9],\n",
       "        [ 8,  2,  2]]])"
      ]
     },
     "execution_count": 95,
     "metadata": {},
     "output_type": "execute_result"
    }
   ],
   "source": [
    "t + 1"
   ]
  },
  {
   "cell_type": "code",
   "execution_count": 97,
   "id": "0164699c-1c37-4a9a-ab9e-4b4cf0ff231a",
   "metadata": {},
   "outputs": [
    {
     "data": {
      "text/plain": [
       "array([ 3, -5,  9])"
      ]
     },
     "execution_count": 97,
     "metadata": {},
     "output_type": "execute_result"
    }
   ],
   "source": [
    "v + 1"
   ]
  },
  {
   "cell_type": "code",
   "execution_count": 113,
   "id": "31411b06-8172-429b-b53a-49097e739d54",
   "metadata": {},
   "outputs": [
    {
     "data": {
      "text/plain": [
       "array([[ 2,  6, -9],\n",
       "       [ 6, -9,  7]])"
      ]
     },
     "execution_count": 113,
     "metadata": {},
     "output_type": "execute_result"
    }
   ],
   "source": [
    "vec"
   ]
  },
  {
   "cell_type": "code",
   "execution_count": 115,
   "id": "9006251c-e204-44d7-9d8f-892ad7fcdec3",
   "metadata": {},
   "outputs": [
    {
     "data": {
      "text/plain": [
       "array([[ 2,  6],\n",
       "       [ 6, -9],\n",
       "       [-9,  7]])"
      ]
     },
     "execution_count": 115,
     "metadata": {},
     "output_type": "execute_result"
    }
   ],
   "source": [
    "vec.T"
   ]
  },
  {
   "cell_type": "code",
   "execution_count": 131,
   "id": "09af3997-2f0f-48a1-8a59-81e7496bf988",
   "metadata": {},
   "outputs": [
    {
     "data": {
      "text/plain": [
       "array([ 2, -6,  8])"
      ]
     },
     "execution_count": 131,
     "metadata": {},
     "output_type": "execute_result"
    }
   ],
   "source": [
    "v\n"
   ]
  },
  {
   "cell_type": "code",
   "execution_count": 117,
   "id": "746a2c07-0cdc-4555-8b0d-d4e13a76c16d",
   "metadata": {},
   "outputs": [
    {
     "data": {
      "text/plain": [
       "(3,)"
      ]
     },
     "execution_count": 117,
     "metadata": {},
     "output_type": "execute_result"
    }
   ],
   "source": [
    "v.shape"
   ]
  },
  {
   "cell_type": "code",
   "execution_count": 127,
   "id": "da89c06a-9a61-451c-a31a-c621fb046061",
   "metadata": {},
   "outputs": [
    {
     "data": {
      "text/plain": [
       "array([[ 2, -6,  8]])"
      ]
     },
     "execution_count": 127,
     "metadata": {},
     "output_type": "execute_result"
    }
   ],
   "source": [
    "v2 = v.reshape(1,3)\n",
    "v2"
   ]
  },
  {
   "cell_type": "code",
   "execution_count": 129,
   "id": "4f97de5e-8567-41b9-b2c5-fde9abf4eb11",
   "metadata": {},
   "outputs": [
    {
     "data": {
      "text/plain": [
       "array([[ 2],\n",
       "       [-6],\n",
       "       [ 8]])"
      ]
     },
     "execution_count": 129,
     "metadata": {},
     "output_type": "execute_result"
    }
   ],
   "source": [
    "v2.T"
   ]
  },
  {
   "cell_type": "markdown",
   "id": "9ffbe57f-b286-4e66-908c-9424ad377a18",
   "metadata": {},
   "source": [
    "#SCALAR PRODUCT\n"
   ]
  },
  {
   "cell_type": "code",
   "execution_count": 139,
   "id": "5383e85b-cad5-421c-a64b-ac774757dcb0",
   "metadata": {},
   "outputs": [],
   "source": [
    "x = np.array([1,6,7])\n",
    "y = np.array([8,4,8])"
   ]
  },
  {
   "cell_type": "code",
   "execution_count": 145,
   "id": "1d875904-ad18-4126-958a-484e4fd10e38",
   "metadata": {},
   "outputs": [
    {
     "name": "stdout",
     "output_type": "stream",
     "text": [
      "88\n"
     ]
    }
   ],
   "source": [
    "print(np.dot(x,y))"
   ]
  },
  {
   "cell_type": "code",
   "execution_count": 143,
   "id": "2338489e-7f2a-4170-a303-47be29680334",
   "metadata": {},
   "outputs": [
    {
     "data": {
      "text/plain": [
       "array([ 8, 24, 56])"
      ]
     },
     "execution_count": 143,
     "metadata": {},
     "output_type": "execute_result"
    }
   ],
   "source": [
    "x*y"
   ]
  },
  {
   "cell_type": "markdown",
   "id": "ec40a03c-4da1-4c8d-af9a-d34b6987c181",
   "metadata": {},
   "source": [
    "#MATRIX MULTIPLICATION RULE :- m*n . n*k = m*k\n"
   ]
  },
  {
   "cell_type": "code",
   "execution_count": null,
   "id": "0b92d476-64cf-4806-80cf-7ca43f63871a",
   "metadata": {},
   "outputs": [],
   "source": []
  }
 ],
 "metadata": {
  "kernelspec": {
   "display_name": "Python 3 (ipykernel)",
   "language": "python",
   "name": "python3"
  },
  "language_info": {
   "codemirror_mode": {
    "name": "ipython",
    "version": 3
   },
   "file_extension": ".py",
   "mimetype": "text/x-python",
   "name": "python",
   "nbconvert_exporter": "python",
   "pygments_lexer": "ipython3",
   "version": "3.12.4"
  }
 },
 "nbformat": 4,
 "nbformat_minor": 5
}
