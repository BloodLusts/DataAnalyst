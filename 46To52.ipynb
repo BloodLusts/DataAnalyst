{
 "cells": [
  {
   "cell_type": "markdown",
   "id": "781f0083-a8bb-4ed9-830f-e204c2da17b2",
   "metadata": {},
   "source": [
    "#Dictionary In Python"
   ]
  },
  {
   "cell_type": "code",
   "execution_count": 2,
   "id": "a1f150c7-f4af-4402-a122-8696166accd4",
   "metadata": {},
   "outputs": [
    {
     "name": "stdout",
     "output_type": "stream",
     "text": [
      "{'Spaghetti': 10, 'Fries': 5, 'Cheeseburger': 8, 'Lasagna': 12, 'Soup': 5}\n"
     ]
    }
   ],
   "source": [
    "Menu = {'meal_1':'Spaghetti', 'meal_2':'Fries', 'meal_3':'Cheeseburger', 'meal_4':'Lasagna', 'meal_5':'Soup'}\n",
    "Price_list = {}\n",
    "Price_list['Spaghetti']=10\n",
    "Price_list['Fries'] = 5\n",
    "Price_list['Cheeseburger'] = 8\n",
    "Price_list['Lasagna'] = 12\n",
    "Price_list['Soup'] = 5\n",
    "print(Price_list)"
   ]
  },
  {
   "cell_type": "code",
   "execution_count": 4,
   "id": "39afe6a2-0b13-4be4-948d-8082da2c9f99",
   "metadata": {},
   "outputs": [
    {
     "name": "stdout",
     "output_type": "stream",
     "text": [
      "10\n",
      "10\n"
     ]
    }
   ],
   "source": [
    "Price_list = {'Cheeseburger': 8, 'Fries': 5, 'Lasagna': 12, 'Soup': 5, 'Spaghetti': 10}\n",
    "print(Price_list.get('Spaghetti'))\n",
    "print(Price_list['Spaghetti'])"
   ]
  },
  {
   "cell_type": "code",
   "execution_count": 20,
   "id": "9a1628af-86b2-4d38-bf1a-299bdcdc378f",
   "metadata": {},
   "outputs": [
    {
     "name": "stdout",
     "output_type": "stream",
     "text": [
      "[ 1 ] [ 3 ] [ 5 ] [ 7 ] [ 9 ] [ 11 ] [ 13 ] [ 15 ] "
     ]
    }
   ],
   "source": [
    "odd = [1,3,5,7,9,11,13,15]\n",
    "for n in odd:\n",
    "    print('[',n,end = ' ] ')"
   ]
  },
  {
   "cell_type": "code",
   "execution_count": 24,
   "id": "c9a7f58b-ed09-4914-a6fa-8d66344fdecc",
   "metadata": {},
   "outputs": [
    {
     "name": "stdout",
     "output_type": "stream",
     "text": [
      "0 1 2 3 4 5 6 7 8 9 "
     ]
    }
   ],
   "source": [
    "y = 0\n",
    "while y<10:\n",
    "    print(y,end = ' ')\n",
    "    y+=1"
   ]
  },
  {
   "cell_type": "code",
   "execution_count": 26,
   "id": "6558dd05-e297-4da9-9210-d384037d0efa",
   "metadata": {},
   "outputs": [
    {
     "name": "stdout",
     "output_type": "stream",
     "text": [
      "1 3 5 7 9 11 13 15 17 19 21 23 25 27 29 "
     ]
    }
   ],
   "source": [
    "i = 0\n",
    "while i<30:\n",
    "    if i%2 == 1:\n",
    "        print(i, end =' ')\n",
    "    i+=1"
   ]
  },
  {
   "cell_type": "code",
   "execution_count": 42,
   "id": "f22488e9-82b4-42ea-9054-3307728604d8",
   "metadata": {},
   "outputs": [
    {
     "name": "stdout",
     "output_type": "stream",
     "text": [
      "[1, 2, 3, 4, 5, 6, 7, 8, 9, 10]\n"
     ]
    }
   ],
   "source": [
    "list(range(1,11,1))\n",
    "print(list(range(1,11)))"
   ]
  },
  {
   "cell_type": "code",
   "execution_count": 52,
   "id": "b1bb3a1e-7bf5-40ce-b10e-96f0d87cdcd7",
   "metadata": {},
   "outputs": [
    {
     "data": {
      "text/plain": [
       "[1, 2, 3, 4, 5, 6, 7, 8, 9, 10]"
      ]
     },
     "execution_count": 52,
     "metadata": {},
     "output_type": "execute_result"
    }
   ],
   "source": [
    "table = ()\n",
    "table = list(range(1,11,1))\n",
    "table"
   ]
  },
  {
   "cell_type": "code",
   "execution_count": 54,
   "id": "3c8213ed-58d6-4670-a460-dfaefb454f55",
   "metadata": {},
   "outputs": [
    {
     "data": {
      "text/plain": [
       "[1, 2, 3, 4, 5, 6, 7, 8, 9, 10]"
      ]
     },
     "execution_count": 54,
     "metadata": {},
     "output_type": "execute_result"
    }
   ],
   "source": [
    "table = []\n",
    "table = list(range(1,11,1))\n",
    "table"
   ]
  },
  {
   "cell_type": "code",
   "execution_count": 56,
   "id": "d2597e4d-a18a-4070-a343-5665ae15e49a",
   "metadata": {},
   "outputs": [
    {
     "name": "stdout",
     "output_type": "stream",
     "text": [
      "2\n",
      "4\n",
      "6\n",
      "8\n",
      "10\n",
      "12\n",
      "14\n",
      "16\n",
      "18\n",
      "20\n"
     ]
    }
   ],
   "source": [
    "for i in list(range(1,11)):\n",
    "    print(i*2,end ='\\n')"
   ]
  },
  {
   "cell_type": "code",
   "execution_count": 58,
   "id": "562bcf1a-92b1-4f14-9a0b-344af76d49ed",
   "metadata": {},
   "outputs": [
    {
     "name": "stdout",
     "output_type": "stream",
     "text": [
      "1 Even 3 Even 5 Even 7 Even 9 Even 11 Even 13 Even 15 Even 17 Even 19 Even 21 Even 23 Even 25 Even 27 Even 29 Even "
     ]
    }
   ],
   "source": [
    "for i in list(range(1,31)):\n",
    "    if i%2!=0:\n",
    "        print(i,end =' ')\n",
    "    else:\n",
    "        print('Even',end=' ')"
   ]
  },
  {
   "cell_type": "code",
   "execution_count": 60,
   "id": "102dd791-cb49-44b7-8a95-b48797682ec1",
   "metadata": {},
   "outputs": [
    {
     "name": "stdout",
     "output_type": "stream",
     "text": [
      "10 20 30 40 50 60 \n",
      "\n",
      "10 20 30 40 50 60 "
     ]
    }
   ],
   "source": [
    "n = [1,2,3,4,5,6]\n",
    "for i in n:\n",
    "    print(i*10,end =' ')\n",
    "print('\\n')\n",
    "for i in range(len(n)):\n",
    "    print(n[i]*10,end =' ')"
   ]
  },
  {
   "cell_type": "code",
   "execution_count": 66,
   "id": "725dcf63-5d6c-4fad-a8a7-1668254840d3",
   "metadata": {},
   "outputs": [
    {
     "data": {
      "text/plain": [
       "2"
      ]
     },
     "execution_count": 66,
     "metadata": {},
     "output_type": "execute_result"
    }
   ],
   "source": [
    "nums = [1,35,12,24,31,51,70,100]\n",
    "\n",
    "def count(list):\n",
    "    total=0\n",
    "    i=0\n",
    "    while i<len(list):\n",
    "        if list[i]<20:\n",
    "            total+=1\n",
    "        i+=1\n",
    "    return total\n",
    "\n",
    "x = count(nums)\n",
    "x"
   ]
  },
  {
   "cell_type": "code",
   "execution_count": 68,
   "id": "c38ea5af-e38a-4384-85d6-2e2fb6657f6a",
   "metadata": {},
   "outputs": [
    {
     "name": "stdout",
     "output_type": "stream",
     "text": [
      "50\n"
     ]
    }
   ],
   "source": [
    "prices = {\n",
    "    \"box_of_spaghetti\" : 4,\n",
    "    \"lasagna\"  : 5,\n",
    "    \"hamburger\" : 2\n",
    "   }\n",
    "quantity = {\n",
    "    \"box_of_spaghetti\" : 6,\n",
    "    \"lasagna\"  : 10,\n",
    "    \"hamburger\" : 0\n",
    "    }\n",
    "\n",
    "money_spent = 0\n",
    "for i in prices:\n",
    "    if prices[i]>=5:     #HERE i IS 'lasagna'\n",
    "        money_spent += prices[i]*quantity[i]\n",
    "print(money_spent)"
   ]
  },
  {
   "cell_type": "code",
   "execution_count": 5,
   "id": "f25af3bb-2cf3-4750-b664-9c8d166db704",
   "metadata": {},
   "outputs": [
    {
     "name": "stdout",
     "output_type": "stream",
     "text": [
      "0 1 2 3 4 5 6 7 8 9 "
     ]
    }
   ],
   "source": [
    "digits = [0,1,2,3,4,5,6,7,8,9]\n",
    "for y in digits:\n",
    "    print(y,end = ' ')"
   ]
  },
  {
   "cell_type": "code",
   "execution_count": 7,
   "id": "6c460d96-6a6d-407e-9aab-aec334575edf",
   "metadata": {},
   "outputs": [
    {
     "name": "stdout",
     "output_type": "stream",
     "text": [
      "1 3 5 7 9 11 13 15 17 19 21 23 25 27 29 "
     ]
    }
   ],
   "source": [
    "i = 0\n",
    "while i<30:\n",
    "    if i%2 == 1:\n",
    "        print(i, end =' ')\n",
    "    i+=1\n"
   ]
  },
  {
   "cell_type": "code",
   "execution_count": 11,
   "id": "87b7f1bf-3273-47e1-867e-44ff7d3a90e1",
   "metadata": {},
   "outputs": [
    {
     "data": {
      "text/plain": [
       "[0, 1, 2, 3, 4, 5, 6, 7, 8, 9, 10]"
      ]
     },
     "execution_count": 11,
     "metadata": {},
     "output_type": "execute_result"
    }
   ],
   "source": [
    "list(range(0,11,1))\n",
    "#range(start,stop,step)"
   ]
  },
  {
   "cell_type": "code",
   "execution_count": 13,
   "id": "6c0c7d44-5c7c-4e4a-bf0c-3182c3e5c616",
   "metadata": {},
   "outputs": [
    {
     "name": "stdout",
     "output_type": "stream",
     "text": [
      "1 Even 3 Even 5 Even 7 Even 9 Even 11 Even 13 Even 15 Even 17 Even 19 Even 21 Even 23 Even 25 Even 27 Even 29 Even "
     ]
    }
   ],
   "source": [
    "for i in list(range(1,31)):\n",
    "    if i%2!=0:\n",
    "        print(i,end =' ')\n",
    "    else:\n",
    "        print('Even',end=' ')"
   ]
  },
  {
   "cell_type": "code",
   "execution_count": 15,
   "id": "4bdde14f-5078-470b-8834-e9ec6f46b279",
   "metadata": {},
   "outputs": [
    {
     "name": "stdout",
     "output_type": "stream",
     "text": [
      "10 20 30 40 50 60 \n",
      "\n",
      "10 20 30 40 50 60 "
     ]
    }
   ],
   "source": [
    "n = [1,2,3,4,5,6]\n",
    "for i in n:\n",
    "    print(i*10,end =' ')\n",
    "print('\\n')\n",
    "for i in range(len(n)):\n",
    "    print(n[i]*10,end =' ')"
   ]
  },
  {
   "cell_type": "code",
   "execution_count": 22,
   "id": "fd56af49-da2d-495a-aec0-6ee8a2ec1933",
   "metadata": {},
   "outputs": [
    {
     "name": "stdout",
     "output_type": "stream",
     "text": [
      "24\n"
     ]
    }
   ],
   "source": [
    "prices = {\n",
    "    \"box_of_spaghetti\" : 4,\n",
    "    \"lasagna\"  : 5,\n",
    "    \"hamburger\" : 2\n",
    "   }\n",
    "quantity = {\n",
    "    \"box_of_spaghetti\" : 6,\n",
    "    \"lasagna\"  : 10,\n",
    "    \"hamburger\" : 0\n",
    "    }\n",
    "\n",
    "money_spent = 0\n",
    "for i in prices:\n",
    "    if prices[i]<5:\n",
    "        money_spent+=prices[i]*quantity[i]\n",
    "print(money_spent)"
   ]
  },
  {
   "cell_type": "code",
   "execution_count": null,
   "id": "fe0eef87-f694-4df6-aa6c-45e84c26993b",
   "metadata": {},
   "outputs": [],
   "source": []
  }
 ],
 "metadata": {
  "kernelspec": {
   "display_name": "Python 3 (ipykernel)",
   "language": "python",
   "name": "python3"
  },
  "language_info": {
   "codemirror_mode": {
    "name": "ipython",
    "version": 3
   },
   "file_extension": ".py",
   "mimetype": "text/x-python",
   "name": "python",
   "nbconvert_exporter": "python",
   "pygments_lexer": "ipython3",
   "version": "3.12.4"
  }
 },
 "nbformat": 4,
 "nbformat_minor": 5
}
