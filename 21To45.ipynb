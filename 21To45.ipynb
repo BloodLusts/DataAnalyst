{
 "cells": [
  {
   "cell_type": "code",
   "execution_count": 19,
   "id": "805b358f-a471-484a-8f5f-efa3d6d8cac5",
   "metadata": {},
   "outputs": [
    {
     "data": {
      "text/plain": [
       "'f'"
      ]
     },
     "execution_count": 19,
     "metadata": {},
     "output_type": "execute_result"
    }
   ],
   "source": [
    "#Hi this is just a comment\n",
    "x = 'friday'\n",
    "x[0]"
   ]
  },
  {
   "cell_type": "code",
   "execution_count": 33,
   "id": "77447143-3114-4b70-84fe-06f39c1dfb1f",
   "metadata": {
    "scrolled": true
   },
   "outputs": [
    {
     "data": {
      "text/plain": [
       "True"
      ]
     },
     "execution_count": 33,
     "metadata": {},
     "output_type": "execute_result"
    }
   ],
   "source": [
    "True or (True and False)\n",
    "#not and or is order"
   ]
  },
  {
   "cell_type": "code",
   "execution_count": 37,
   "id": "ff00892f-7965-4fc9-b385-44ff683ce265",
   "metadata": {},
   "outputs": [
    {
     "name": "stdout",
     "output_type": "stream",
     "text": [
      "yeah!\n"
     ]
    }
   ],
   "source": [
    "if 3==int(10/3):\n",
    "    print(\"yeah!\")"
   ]
  },
  {
   "cell_type": "code",
   "execution_count": 41,
   "id": "592983c6-7879-4af4-a90f-d9eb92a5bb8c",
   "metadata": {},
   "outputs": [
    {
     "name": "stdout",
     "output_type": "stream",
     "text": [
      "Small\n"
     ]
    }
   ],
   "source": [
    "x =100\n",
    "if x > 200:\n",
    "    print(\"Big\")\n",
    "elif (x>100 and x<=200):\n",
    "    print(\"Average\")\n",
    "else:\n",
    "    print(\"Small\")"
   ]
  },
  {
   "cell_type": "code",
   "execution_count": 45,
   "id": "d0912649-330f-4419-9ebc-65edda3b596a",
   "metadata": {},
   "outputs": [
    {
     "name": "stdout",
     "output_type": "stream",
     "text": [
      "More than five\n",
      "Less than five\n",
      "Equal to five\n"
     ]
    }
   ],
   "source": [
    "def compare(x):\n",
    "    if x==5:\n",
    "        return \"Equal to five\"\n",
    "    elif x<5:\n",
    "        return \"Less than five\"\n",
    "    else:\n",
    "        return \"More than five\"\n",
    "print(compare(9))\n",
    "print(compare(2))\n",
    "print(compare(5))"
   ]
  },
  {
   "cell_type": "code",
   "execution_count": 53,
   "id": "e74785a9-437c-4e7d-baf5-8c814840f936",
   "metadata": {},
   "outputs": [
    {
     "name": "stdout",
     "output_type": "stream",
     "text": [
      "14\n"
     ]
    },
    {
     "data": {
      "text/plain": [
       "16"
      ]
     },
     "execution_count": 53,
     "metadata": {},
     "output_type": "execute_result"
    }
   ],
   "source": [
    "def plusTen(a):\n",
    "    return a+10\n",
    "print(plusTen(4))\n",
    "plusTen(6)"
   ]
  },
  {
   "cell_type": "code",
   "execution_count": 55,
   "id": "d3cd5176-0ea1-47b6-817c-aef23e76888f",
   "metadata": {},
   "outputs": [
    {
     "name": "stdout",
     "output_type": "stream",
     "text": [
      "Raised to the power of 2:\n"
     ]
    },
    {
     "data": {
      "text/plain": [
       "16"
      ]
     },
     "execution_count": 55,
     "metadata": {},
     "output_type": "execute_result"
    }
   ],
   "source": [
    "def exponentiation_exp_2(x):\n",
    "    result = x**2\n",
    "    print(\"Raised to the power of 2:\")\n",
    "    return result\n",
    "exponentiation_exp_2(4)"
   ]
  },
  {
   "cell_type": "code",
   "execution_count": 65,
   "id": "0dbac603-0166-4551-aff0-049d2a04faee",
   "metadata": {},
   "outputs": [
    {
     "data": {
      "text/plain": [
       "(2000, 2050)"
      ]
     },
     "execution_count": 65,
     "metadata": {},
     "output_type": "execute_result"
    }
   ],
   "source": [
    "def wage(x):\n",
    "    return x*25\n",
    "def wage_bonus(x):\n",
    "    return wage(x)+50\n",
    "wage(80),wage_bonus(80)"
   ]
  },
  {
   "cell_type": "code",
   "execution_count": 67,
   "id": "151c1f69-777d-4207-ba85-89f83ff46b54",
   "metadata": {},
   "outputs": [
    {
     "data": {
      "text/plain": [
       "30"
      ]
     },
     "execution_count": 67,
     "metadata": {},
     "output_type": "execute_result"
    }
   ],
   "source": [
    "def plus_five(x):\n",
    "    return x+5\n",
    "def m_by_3(x):\n",
    "    return plus_five(x)*3\n",
    "m_by_3(5)    \n",
    "    "
   ]
  },
  {
   "cell_type": "code",
   "execution_count": 71,
   "id": "d3c8009c-af55-4f0a-aa43-8078bfa4b0b3",
   "metadata": {},
   "outputs": [
    {
     "data": {
      "text/plain": [
       "210"
      ]
     },
     "execution_count": 71,
     "metadata": {},
     "output_type": "execute_result"
    }
   ],
   "source": [
    "def add_10(m):\n",
    "    if(m>=100):\n",
    "        m+=10\n",
    "        return m\n",
    "    else:\n",
    "        return \"Save more\"\n",
    "add_10(20)\n",
    "add_10(200)"
   ]
  },
  {
   "cell_type": "code",
   "execution_count": 75,
   "id": "237dd3a5-42c7-4075-b663-bac7911aa5ed",
   "metadata": {},
   "outputs": [
    {
     "name": "stdout",
     "output_type": "stream",
     "text": [
      "Less\n",
      "Greater\n",
      "Equal\n"
     ]
    }
   ],
   "source": [
    "def compare_the_two(x,y):\n",
    "    if x>y:\n",
    "        print('Greater')\n",
    "    elif x<y:\n",
    "        print('Less')\n",
    "    else:\n",
    "        print('Equal')\n",
    "compare_the_two(3,8)\n",
    "compare_the_two(3,1)\n",
    "compare_the_two(3,3)\n"
   ]
  },
  {
   "cell_type": "code",
   "execution_count": 83,
   "id": "2ed1d922-ef3c-44ff-9971-d96545615f7d",
   "metadata": {},
   "outputs": [
    {
     "data": {
      "text/plain": [
       "5"
      ]
     },
     "execution_count": 83,
     "metadata": {},
     "output_type": "execute_result"
    }
   ],
   "source": [
    "min(12,5,56)\n"
   ]
  },
  {
   "cell_type": "code",
   "execution_count": 85,
   "id": "0965d84c-243f-4c71-9c64-a950bae53747",
   "metadata": {},
   "outputs": [
    {
     "data": {
      "text/plain": [
       "534"
      ]
     },
     "execution_count": 85,
     "metadata": {},
     "output_type": "execute_result"
    }
   ],
   "source": [
    "max(22,534,7)"
   ]
  },
  {
   "cell_type": "code",
   "execution_count": 125,
   "id": "c55e6f5e-9c24-418d-a84c-28cd4080374d",
   "metadata": {},
   "outputs": [
    {
     "data": {
      "text/plain": [
       "7"
      ]
     },
     "execution_count": 125,
     "metadata": {},
     "output_type": "execute_result"
    }
   ],
   "source": [
    "list = [2,5,3,7,1]\n",
    "max(list)\n"
   ]
  },
  {
   "cell_type": "code",
   "execution_count": 93,
   "id": "50b88171-59ee-4eef-a394-4e6aa54c9a0d",
   "metadata": {},
   "outputs": [
    {
     "data": {
      "text/plain": [
       "2.34"
      ]
     },
     "execution_count": 93,
     "metadata": {},
     "output_type": "execute_result"
    }
   ],
   "source": [
    "round(2.3425,2)"
   ]
  },
  {
   "cell_type": "code",
   "execution_count": 95,
   "id": "91abdc5c-c233-44ef-8ca5-e2a1d8dbc05b",
   "metadata": {},
   "outputs": [
    {
     "data": {
      "text/plain": [
       "15625"
      ]
     },
     "execution_count": 95,
     "metadata": {},
     "output_type": "execute_result"
    }
   ],
   "source": [
    "pow(5,6)"
   ]
  },
  {
   "cell_type": "code",
   "execution_count": 97,
   "id": "f4fce057-23ac-4f42-b521-840887c65306",
   "metadata": {},
   "outputs": [
    {
     "data": {
      "text/plain": [
       "5"
      ]
     },
     "execution_count": 97,
     "metadata": {},
     "output_type": "execute_result"
    }
   ],
   "source": [
    "len(\"water\")"
   ]
  },
  {
   "cell_type": "code",
   "execution_count": 109,
   "id": "d6cc7e24-9ea6-4985-adf2-77b2653e31df",
   "metadata": {},
   "outputs": [
    {
     "data": {
      "text/plain": [
       "int"
      ]
     },
     "execution_count": 109,
     "metadata": {},
     "output_type": "execute_result"
    }
   ],
   "source": [
    "type(23)"
   ]
  },
  {
   "cell_type": "code",
   "execution_count": 115,
   "id": "91b33332-66cb-49cd-b5a5-ff0d605806f3",
   "metadata": {},
   "outputs": [
    {
     "data": {
      "text/plain": [
       "'21'"
      ]
     },
     "execution_count": 115,
     "metadata": {},
     "output_type": "execute_result"
    }
   ],
   "source": [
    "str(21)"
   ]
  },
  {
   "cell_type": "code",
   "execution_count": 133,
   "id": "9e362df8-560a-4f8d-b9df-8a611325b0a7",
   "metadata": {},
   "outputs": [
    {
     "data": {
      "text/plain": [
       "21.23"
      ]
     },
     "execution_count": 133,
     "metadata": {},
     "output_type": "execute_result"
    }
   ],
   "source": [
    "abs(-21.23)"
   ]
  },
  {
   "cell_type": "code",
   "execution_count": 123,
   "id": "b8b78058-1c0b-4c2a-90dd-64fe534baa95",
   "metadata": {},
   "outputs": [
    {
     "data": {
      "text/plain": [
       "96"
      ]
     },
     "execution_count": 123,
     "metadata": {},
     "output_type": "execute_result"
    }
   ],
   "source": [
    "list = [12,54,6,23,1]\n",
    "sum(list)"
   ]
  },
  {
   "cell_type": "code",
   "execution_count": 129,
   "id": "4cd1b6e2-1fdc-4a21-9430-66a029eae308",
   "metadata": {},
   "outputs": [
    {
     "data": {
      "text/plain": [
       "10"
      ]
     },
     "execution_count": 129,
     "metadata": {},
     "output_type": "execute_result"
    }
   ],
   "source": [
    "def distance_from_zero(x):\n",
    "    if type(x) != int and type(x) != float:\n",
    "        return 'Not possible'\n",
    "    return abs(x)\n",
    "    \n",
    "distance_from_zero(-10)\n"
   ]
  },
  {
   "cell_type": "code",
   "execution_count": 137,
   "id": "62a6504f-339e-41b2-a681-bedbb0568fa8",
   "metadata": {},
   "outputs": [
    {
     "name": "stdout",
     "output_type": "stream",
     "text": [
      "Not possible\n"
     ]
    }
   ],
   "source": [
    "distance_from_zero('cat')\n"
   ]
  },
  {
   "cell_type": "code",
   "execution_count": 163,
   "id": "56190152-f1b8-4d1e-a408-791aa92dac55",
   "metadata": {},
   "outputs": [
    {
     "data": {
      "text/plain": [
       "True"
      ]
     },
     "execution_count": 163,
     "metadata": {},
     "output_type": "execute_result"
    }
   ],
   "source": [
    "list = ['har','lik','plo','pas','wal']\n",
    "list[-1] == list[4]"
   ]
  },
  {
   "cell_type": "code",
   "execution_count": 165,
   "id": "fcf5279a-75e6-4a4c-a441-3a734c0adacc",
   "metadata": {},
   "outputs": [
    {
     "data": {
      "text/plain": [
       "['har', 'lik', 'plo', 'pas', 'wal']"
      ]
     },
     "execution_count": 165,
     "metadata": {},
     "output_type": "execute_result"
    }
   ],
   "source": [
    "list"
   ]
  },
  {
   "cell_type": "code",
   "execution_count": 167,
   "id": "52e3b9d6-f074-4a4f-93d0-b70195c1b034",
   "metadata": {},
   "outputs": [
    {
     "data": {
      "text/plain": [
       "['har', 'lik', 'plo', 'wal']"
      ]
     },
     "execution_count": 167,
     "metadata": {},
     "output_type": "execute_result"
    }
   ],
   "source": [
    "del list[3]\n",
    "list"
   ]
  },
  {
   "cell_type": "code",
   "execution_count": 169,
   "id": "2e03719f-6c5b-459a-b0f5-31c993074701",
   "metadata": {},
   "outputs": [
    {
     "data": {
      "text/plain": [
       "['har', 'lik', 'plo', 'wal', 'lla']"
      ]
     },
     "execution_count": 169,
     "metadata": {},
     "output_type": "execute_result"
    }
   ],
   "source": [
    "list.append(\"lla\")\n",
    "list"
   ]
  },
  {
   "cell_type": "code",
   "execution_count": 171,
   "id": "1d044516-9435-40c0-adef-fa86340ba0b7",
   "metadata": {},
   "outputs": [
    {
     "data": {
      "text/plain": [
       "['har', 'lik', 'plo', 'wal', 'lla', 'ioe', 'qas', 'tfg']"
      ]
     },
     "execution_count": 171,
     "metadata": {},
     "output_type": "execute_result"
    }
   ],
   "source": [
    "list.extend(['ioe','qas','tfg'])\n",
    "list"
   ]
  },
  {
   "cell_type": "code",
   "execution_count": 175,
   "id": "242c2347-0d99-418b-a4a7-662c2bbc4a98",
   "metadata": {},
   "outputs": [
    {
     "data": {
      "text/plain": [
       "['lla', 'ioe', 'qas', 'tfg']"
      ]
     },
     "execution_count": 175,
     "metadata": {},
     "output_type": "execute_result"
    }
   ],
   "source": [
    "list[4:]"
   ]
  },
  {
   "cell_type": "code",
   "execution_count": 177,
   "id": "252f3e57-ddbd-4414-983a-3d6bcdba5de1",
   "metadata": {},
   "outputs": [
    {
     "data": {
      "text/plain": [
       "['har', 'lik', 'plo', 'wal']"
      ]
     },
     "execution_count": 177,
     "metadata": {},
     "output_type": "execute_result"
    }
   ],
   "source": [
    "list[:4]"
   ]
  },
  {
   "cell_type": "code",
   "execution_count": 179,
   "id": "31d8822b-eea4-4eb0-b794-02e9d4860dfc",
   "metadata": {},
   "outputs": [
    {
     "data": {
      "text/plain": [
       "['qas', 'tfg']"
      ]
     },
     "execution_count": 179,
     "metadata": {},
     "output_type": "execute_result"
    }
   ],
   "source": [
    "list[-2:]"
   ]
  },
  {
   "cell_type": "code",
   "execution_count": 181,
   "id": "135316b6-b7e0-4791-91da-8ec73c091acf",
   "metadata": {},
   "outputs": [],
   "source": [
    "list2 = ['was','will']"
   ]
  },
  {
   "cell_type": "code",
   "execution_count": 185,
   "id": "eda904cf-4832-4c29-9c4f-6376ead5ff0a",
   "metadata": {},
   "outputs": [
    {
     "data": {
      "text/plain": [
       "['har', 'lik', 'plo', 'wal', 'lla', 'ioe', 'qas', 'tfg', 'was', 'will']"
      ]
     },
     "execution_count": 185,
     "metadata": {},
     "output_type": "execute_result"
    }
   ],
   "source": [
    "list3 = list + list2\n",
    "list3"
   ]
  },
  {
   "cell_type": "code",
   "execution_count": 187,
   "id": "7323ec68-778b-4efc-ba48-6e7ed41409fc",
   "metadata": {},
   "outputs": [
    {
     "data": {
      "text/plain": [
       "['har', 'ioe', 'lik', 'lla', 'plo', 'qas', 'tfg', 'wal', 'was', 'will']"
      ]
     },
     "execution_count": 187,
     "metadata": {},
     "output_type": "execute_result"
    }
   ],
   "source": [
    "list3.sort()\n",
    "list3"
   ]
  },
  {
   "cell_type": "code",
   "execution_count": 193,
   "id": "6db907b8-8cbe-4cc6-8922-5e49689f4f84",
   "metadata": {},
   "outputs": [
    {
     "data": {
      "text/plain": [
       "['will', 'was', 'wal', 'tfg', 'qas', 'plo', 'lla', 'lik', 'ioe', 'har']"
      ]
     },
     "execution_count": 193,
     "metadata": {},
     "output_type": "execute_result"
    }
   ],
   "source": [
    "list3.sort(reverse=True)\n",
    "list3"
   ]
  },
  {
   "cell_type": "code",
   "execution_count": 195,
   "id": "2268ed83-1eeb-4d6c-90a2-324fac304b9d",
   "metadata": {},
   "outputs": [],
   "source": [
    "#TUPELS"
   ]
  },
  {
   "cell_type": "code",
   "execution_count": 203,
   "id": "efe84934-44ed-4271-82ab-0c813f865be8",
   "metadata": {},
   "outputs": [
    {
     "data": {
      "text/plain": [
       "(12, 43, 55, 44, 62, 53)"
      ]
     },
     "execution_count": 203,
     "metadata": {},
     "output_type": "execute_result"
    }
   ],
   "source": [
    "x = (12,43,55)\n",
    "y = (44,62,53)\n",
    "z = (x+y)\n",
    "z"
   ]
  },
  {
   "cell_type": "code",
   "execution_count": 207,
   "id": "eef2c7e7-9f75-469f-86d0-400ee0cbe5f7",
   "metadata": {},
   "outputs": [
    {
     "data": {
      "text/plain": [
       "((12, 43, 55), (44, 62, 53))"
      ]
     },
     "execution_count": 207,
     "metadata": {},
     "output_type": "execute_result"
    }
   ],
   "source": [
    "z = (x,y)\n",
    "z"
   ]
  },
  {
   "cell_type": "code",
   "execution_count": 2,
   "id": "7f19646c-8bd7-4795-8420-b71b67717fcb",
   "metadata": {},
   "outputs": [
    {
     "name": "stdout",
     "output_type": "stream",
     "text": [
      "22\n",
      "2002\n",
      "62kg\n",
      "Yash\n"
     ]
    }
   ],
   "source": [
    "(age,Year,mass,name) = \"22,2002,62kg,Yash\".split(',')\n",
    "#here all are string values\n",
    "print(age)\n",
    "print(Year)\n",
    "print(mass)\n",
    "print(name)\n",
    "\n"
   ]
  },
  {
   "cell_type": "code",
   "execution_count": null,
   "id": "4a94d7a0-fdc3-4289-8edc-084b847f7812",
   "metadata": {},
   "outputs": [],
   "source": []
  },
  {
   "cell_type": "code",
   "execution_count": null,
   "id": "d5c93547",
   "metadata": {},
   "outputs": [],
   "source": []
  }
 ],
 "metadata": {
  "kernelspec": {
   "display_name": "Python 3 (ipykernel)",
   "language": "python",
   "name": "python3"
  },
  "language_info": {
   "codemirror_mode": {
    "name": "ipython",
    "version": 3
   },
   "file_extension": ".py",
   "mimetype": "text/x-python",
   "name": "python",
   "nbconvert_exporter": "python",
   "pygments_lexer": "ipython3",
   "version": "3.12.4"
  }
 },
 "nbformat": 4,
 "nbformat_minor": 5
}
